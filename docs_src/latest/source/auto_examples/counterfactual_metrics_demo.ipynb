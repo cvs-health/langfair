{
  "cells": [
    {
      "cell_type": "markdown",
      "metadata": {},
      "source": [
        "\n\n# Counterfactual Metrics\n"
      ]
    },
    {
      "cell_type": "markdown",
      "metadata": {},
      "source": [
        ".. warning ::\n  Due to the topic of bias and fairness, some users may be offended by the content contained herein, including prompts and output generated from use of the prompts.\n\n## Content\n\n1. `Introduction<intro>`\n\n2. `Generate Demo Dataset<gen-demo-dataset>`\n\n3. `Assessment<assessment>`\n\n   * 3.1 `Lazy Implementation<lazy>`\n\n   * 3.2 `Separate Implementation<separate>`\n\n4. `Metric Definitions<metric-defns>`\n\nImport necessary libraries for the notebook.\n\n"
      ]
    },
    {
      "cell_type": "code",
      "execution_count": null,
      "metadata": {
        "collapsed": false
      },
      "outputs": [],
      "source": [
        "# Run if python-dotenv not installed\n# import sys\n# !{sys.executable} -m pip install python-dotenv\n\nimport json\nimport os\nfrom itertools import combinations\n\nimport pandas as pd\nfrom dotenv import find_dotenv, load_dotenv\nfrom langchain_core.rate_limiters import InMemoryRateLimiter\n\nfrom langfair.generator.counterfactual import CounterfactualGenerator\nfrom langfair.metrics.counterfactual import CounterfactualMetrics\nfrom langfair.metrics.counterfactual.metrics import (\n    BleuSimilarity,\n    CosineSimilarity,\n    RougelSimilarity,\n    SentimentBias,\n)\n\n# User to populate .env file with API credentials\nrepo_path = \"/\".join(os.getcwd().split(\"/\")[:-3])\nload_dotenv(find_dotenv())\n\nAPI_KEY = os.getenv(\"API_KEY\")\nAPI_BASE = os.getenv(\"API_BASE\")\nAPI_TYPE = os.getenv(\"API_TYPE\")\nAPI_VERSION = os.getenv(\"API_VERSION\")\nMODEL_VERSION = os.getenv(\"MODEL_VERSION\")\nDEPLOYMENT_NAME = os.getenv(\"DEPLOYMENT_NAME\")"
      ]
    },
    {
      "cell_type": "markdown",
      "metadata": {},
      "source": [
        "1. Introduction\n----------------\nIn many contexts, it is undesirable for a large language model (LLM) to generate substantially different output as a result of different protected attribute words contained in the input prompts, all else equal. This concept is known as (lack of) counterfactual fairness. LangFair offers the following counterfactual fairness metrics from the LLM fairness literature:\n\n* Strict Counterfactual Sentiment Parity [Huang et al., 2020](https://arxiv.org/pdf/1911.03064)\n* Weak Counterfactual Sentiment Parity [Bouchard, 2024](https://arxiv.org/pdf/2407.10853)\n* Counterfactual Cosine Similarity Score [Bouchard, 2024](https://arxiv.org/pdf/2407.10853)\n* Counterfactual BLEU [Bouchard, 2024](https://arxiv.org/pdf/2407.10853)\n* Counterfactual ROUGE-L [Bouchard, 2024](https://arxiv.org/pdf/2407.10853)\n\nFor more details on the definitions of these metrics, refer to the Metric Definitions in this notebook or LangFair's [technical playbook](https://arxiv.org/pdf/2407.10853)\n\n2. Generate Demo Dataset\n----------------\n\nLoad input prompts with `'race`' as sensitive attribute.\n\n"
      ]
    },
    {
      "cell_type": "code",
      "execution_count": null,
      "metadata": {
        "collapsed": false
      },
      "outputs": [],
      "source": [
        "# THIS IS AN EXAMPLE SET OF PROMPTS. USER TO REPLACE WITH THEIR OWN PROMPTS\nfrom langfair.utils.dataloader import load_realtoxicity\n\nn=50000 # number of prompts we want to test\nprompts = load_realtoxicity(n=n)"
      ]
    },
    {
      "cell_type": "markdown",
      "metadata": {},
      "source": [
        "### Counterfactual Dataset Generator\n``CounterfactualGenerator()`` - Class for generating data for counterfactual discrimination assessment (class)\n\n**Class Attributes:**\n\n- ``langchain_llm`` (**langchain llm (Runnable), default=None**) A langchain llm object to get passed to LLMChain `llm` argument.\n- ``suppressed_exceptions`` (**tuple, default=None**) Specifies which exceptions to handle as 'Unable to get response' rather than raising the exception\n- ``max_calls_per_min`` (**deprecated as of 0.2.0**) Use LangChain's InMemoryRateLimiter instead.\n\n**Methods:**\n\n1. ``parse_texts()`` - Parses a list of texts for protected attribute words and names\n\n    **Method Parameters:**\n\n    - ``text`` - (**string**) A text corpus to be parsed for protected attribute words and names\n    - ``attribute`` - (**{'race','gender','name'}**) Specifies what to parse for among race words, gender words, and names\n    - ``custom_list`` - (**List[str], default=None**) Custom list of tokens to use for parsing prompts. Must be provided if attribute is None.\n\n    **Returns:**\n    - list of results containing protected attribute words found (**list**)\n\n2. ``create_prompts()`` - Creates counterfactual prompts by counterfactual substitution\n\n    **Method Parameters:**\n\n    - ``prompts`` - (**List of strings**) A list of prompts on which counterfactual substitution and response generation will be done\n    - ``attribute`` - (**{'gender', 'race'}, default=None**) Specifies what to parse for among race words and gender words. Must be specified if custom_list is None.\n    - ``custom_dict`` - (**Dict[str, List[str]], default=None**) A dictionary containing corresponding lists of tokens for counterfactual substitution. Keys should correspond to groups. Must be provided if attribute is None. For example: {'male': ['he', 'him', 'woman'], 'female': ['she', 'her', 'man']}\n            subset_prompts : bool, default=True\n\n    **Returns:**\n    - list of prompts on which counterfactual substitution was completed (**list**)\n\n3. ``neutralize_tokens()`` - Neutralize gender and race words contained in a list of texts. Replaces gender words with a gender-neutral equivalent and race words with \"[MASK]\".\n\n    **Method Parameters:**\n\n    - ``text_list`` - (**List of strings**) A list of texts on which gender or race neutralization will occur\n    - ``attribute`` - (**{'gender', 'race'}, default='gender'**) Specifies whether to use race or gender for for neutralization\n\n    **Returns:**\n    - list of texts neutralized with respect to race or gender (**list**)\n\n4. ``generate_responses()`` - Creates counterfactual prompts obtained by counterfactual substitution and generates responses asynchronously.\n\n    **Method Parameters:**\n\n    - ``prompts`` - (**List of strings**) A list of prompts on which counterfactual substitution and response generation will be done\n    - ``attribute`` - (**{'gender', 'race'}, default='gender'**) Specifies whether to use race or gender for counterfactual substitution\n    - ``system_prompt`` - (**str, default=\"You are a helpful assistant.\"**) Specifies system prompt for generation\n    - ``count`` - (**int, default=25**) Specifies number of responses to generate for each prompt.\n    - ``custom_dict`` - (**Dict[str, List[str]], default=None**) A dictionary containing corresponding lists of tokens for counterfactual substitution. Keys should correspond to groups. Must be provided if attribute is None. For example: {'male': ['he', 'him', 'woman'], 'female': ['she', 'her', 'man']}\n\n    **Returns:** A dictionary with two keys: `data` and `metadata`.\n    - ``data`` (**dict**) A dictionary containing the prompts and responses.\n    - ``metadata`` (**dict**) A dictionary containing metadata about the generation process, including non-completion rate, temperature, count, original prompts, and identified proctected attribute words.\n\nBelow we use LangFair's ``CounterfactualGenerator`` class to check for fairness through unawareness, construct counterfactual prompts, and generate counterfactual LLM responses for computing metrics. To instantiate the ``CounterfactualGenerator`` class, pass a LangChain LLM object as an argument.\n\n**Important note: We provide three examples of LangChain LLMs below, but these can be replaced with a LangChain LLM of your choice.**\n\n"
      ]
    },
    {
      "cell_type": "code",
      "execution_count": null,
      "metadata": {
        "collapsed": false
      },
      "outputs": [],
      "source": [
        "# Use LangChain's InMemoryRateLimiter to avoid rate limit errors. Adjust parameters as necessary.\nrate_limiter = InMemoryRateLimiter(\n    requests_per_second=10,\n    check_every_n_seconds=10,\n    max_bucket_size=1000,\n)"
      ]
    },
    {
      "cell_type": "markdown",
      "metadata": {},
      "source": [
        "**Example 1: Gemini Pro with VertexAI**\n\n"
      ]
    },
    {
      "cell_type": "code",
      "execution_count": null,
      "metadata": {
        "collapsed": false
      },
      "outputs": [],
      "source": [
        "# # Run if langchain-google-vertexai not installed. Note: kernel restart may be required.\n# import sys\n# !{sys.executable} -m pip install langchain-google-vertexai\n\n# from langchain_google_vertexai import VertexAI\n# llm = VertexAI(model_name='gemini-pro', temperature=1, rate_limiter=rate_limiter)\n\n# # Define exceptions to suppress\n# suppressed_exceptions = (IndexError, ) # suppresses error when gemini refuses to answer"
      ]
    },
    {
      "cell_type": "markdown",
      "metadata": {},
      "source": [
        "**Example 2: Mistral AI**\n\n"
      ]
    },
    {
      "cell_type": "code",
      "execution_count": null,
      "metadata": {
        "collapsed": false
      },
      "outputs": [],
      "source": [
        "# # Run if langchain-mistralai not installed. Note: kernel restart may be required.\n# import sys\n# !{sys.executable} -m pip install langchain-mistralai\n\n# os.environ[\"MISTRAL_API_KEY\"] = os.getenv('M_KEY')\n# from langchain_mistralai import ChatMistralAI\n\n# llm = ChatMistralAI(\n#     model=\"mistral-large-latest\",\n#     temperature=1,\n#     rate_limiter=rate_limiter\n# )\n# suppressed_exceptions = None"
      ]
    },
    {
      "cell_type": "markdown",
      "metadata": {},
      "source": [
        "**Example 3: OpenAI on Azure**\n\n"
      ]
    },
    {
      "cell_type": "code",
      "execution_count": null,
      "metadata": {
        "collapsed": false
      },
      "outputs": [],
      "source": [
        "# # Run if langchain-openai not installed\n# import sys\n# !{sys.executable} -m pip install langchain-openai\n\nimport openai\nfrom langchain_openai import AzureChatOpenAI\n\nllm = AzureChatOpenAI(\n    deployment_name=DEPLOYMENT_NAME,\n    openai_api_key=API_KEY,\n    azure_endpoint=API_BASE,\n    openai_api_type=API_TYPE,\n    openai_api_version=API_VERSION,\n    temperature=1,  # User to set temperature\n    rate_limiter=rate_limiter,\n)\n\n# Define exceptions to suppress\nsuppressed_exceptions = (\n    openai.BadRequestError,\n    ValueError,\n)  # this suppresses content filtering errors"
      ]
    },
    {
      "cell_type": "markdown",
      "metadata": {},
      "source": [
        "Instantiate ``CounterfactualGenerator`` class\n\n"
      ]
    },
    {
      "cell_type": "code",
      "execution_count": null,
      "metadata": {
        "collapsed": false
      },
      "outputs": [],
      "source": [
        "# Create langfair CounterfactualGenerator object\ncdg = CounterfactualGenerator(\n    langchain_llm=llm, suppressed_exceptions=suppressed_exceptions\n)"
      ]
    },
    {
      "cell_type": "markdown",
      "metadata": {},
      "source": [
        "For illustration, this notebook assesses with 'race' as the protected attribute, but metrics can be evaluated for 'gender' or other custom protected attributes in the same way. First, the above mentioned `parse_texts` method is used to identify the input prompts that contain protected attribute words.\n\nNote: We recommend using atleast 1000 prompts that contain protected attribute words for better estimates. Otherwise, increase `count` attribute of `CounterfactualGenerator` class generate more responses.\n\n"
      ]
    },
    {
      "cell_type": "code",
      "execution_count": null,
      "metadata": {
        "collapsed": false
      },
      "outputs": [],
      "source": [
        "# Check for fairness through unawareness\nattribute = \"race\"\ndf = pd.DataFrame({\"prompt\": prompts})\ndf[attribute + \"_words\"] = cdg.parse_texts(texts=prompts, attribute=attribute)\n\n# Remove input prompts that doesn't include a race word\nrace_prompts = df[df[\"race_words\"].apply(lambda x: len(x) > 0)][\n    [\"prompt\", \"race_words\"]\n]\nprint(f\"Race words found in {len(race_prompts)} prompts\")\nrace_prompts.tail(5)"
      ]
    },
    {
      "cell_type": "markdown",
      "metadata": {},
      "source": [
        "Generate the model response on the input prompts using ``generate_responses`` method.\n\n"
      ]
    },
    {
      "cell_type": "code",
      "execution_count": null,
      "metadata": {
        "collapsed": false
      },
      "outputs": [],
      "source": [
        "generations = await cdg.generate_responses(\n    prompts=df[\"prompt\"], attribute=\"race\", count=1\n)\noutput_df = pd.DataFrame(generations[\"data\"])\noutput_df.head(1)\n\nrace_cols = [\"white_response\", \"black_response\", \"asian_response\", \"hispanic_response\"]\n\n# Filter output to remove rows where any of the four counterfactual responses was refused\nrace_eval_df = output_df[\n    ~output_df[race_cols].apply(lambda x: x == \"Unable to get response\").any(axis=1)\n    | ~output_df[race_cols]\n    .apply(lambda x: x.str.lower().str.contains(\"sorry\"))\n    .any(axis=1)\n]"
      ]
    },
    {
      "cell_type": "markdown",
      "metadata": {},
      "source": [
        "3. Assessment\n----------------\nThis section shows two ways to evaluate countefactual metrics on a given dataset.\n\n1. Lazy Implementation: Evalaute few or all available metrics on available dataset. This approach is useful for quick or first dry-run.\n\n2. Separate Implemention: Evaluate each metric separately, this is useful to investage more about a particular metric.\n\n3.1 Lazy Implementation\n\n  ``CounterfactualMetrics()`` - Calculate all the counterfactual metrics (class)\n  **Class Attributes:**\n  - `metrics` - (**List of strings/Metric objects**) Specifies which metrics to use.\n  Default option is a list if strings (`metrics` = [\"Cosine\", \"Rougel\", \"Bleu\", \"Sentiment Bias\"]).\n  - `neutralize_tokens` - (**bool, default=True**)\n  An indicator attribute to use masking for the computation of Blue and RougeL metrics. If True, counterfactual responses are masked using `CounterfactualGenerator.neutralize_tokens` method before computing the aforementioned metrics.\n\n  **Methods:**\n\n  1. `evaluate()` - Calculates counterfactual metrics for two sets of counterfactual outputs.\n      Method Parameters:\n\n      - `texts1` - (**List of strings**) A list of generated output from an LLM with mention of a protected attribute group.\n      - `texts2` - (**List of strings**) A list of equal length to `texts1` containing counterfactually generated output from an LLM with mention of a different protected attribute group.\n\n      Returns:\n      - A dictionary containing all Counterfactual metric values (**dict**).\n\n"
      ]
    },
    {
      "cell_type": "code",
      "execution_count": null,
      "metadata": {
        "collapsed": false
      },
      "outputs": [],
      "source": [
        "counterfactual = CounterfactualMetrics()\n\n\nsimilarity_values = {}\nkeys_, count = [], 1\nfor group1, group2 in combinations(['white','black','asian','hispanic'], 2):\n    keys_.append(f\"{group1}-{group2}\")\n    result = counterfactual.evaluate(\n        texts1=race_eval_df[group1 + '_response'], \n        texts2=race_eval_df[group2 + '_response'], \n        attribute=\"race\",\n        return_data=True\n    )\n    similarity_values[keys_[-1]] = result['metrics']\n    print(f\"{count}. {group1}-{group2}\")\n    for key_ in similarity_values[keys_[-1]]:\n        print(\"\\t- \", key_, \": {:1.5f}\".format(similarity_values[keys_[-1]][key_]))\n    count += 1"
      ]
    },
    {
      "cell_type": "markdown",
      "metadata": {},
      "source": [
        "Next, we create a scatter plot to compare the metrics for different race combinations.\nNote: `matplotlib` installation is necessary to recreate the plot.\n\n"
      ]
    },
    {
      "cell_type": "code",
      "execution_count": null,
      "metadata": {
        "collapsed": false
      },
      "outputs": [],
      "source": [
        "# Run this cell, if matplotlib is not installed. Install a pip package in the current Jupyter kernel\n# import sys\n# !{sys.executable} -m pip install matplotlib\n\nimport matplotlib.pyplot as plt\n\nx = [x_ for x_ in range(6)]\nfig, ax = plt.subplots()\nfor key_ in [\n    \"Cosine Similarity\",\n    \"RougeL Similarity\",\n    \"Bleu Similarity\",\n    \"Sentiment Bias\",\n]:\n    y = []\n    for race_combination in similarity_values.keys():\n        y.append(similarity_values[race_combination][key_])\n    ax.scatter(x, y, label=key_)\nax.legend(ncol=2, loc=\"upper center\", bbox_to_anchor=(0.5, 1.16))\nax.set_ylabel(\"Metric Values\")\nax.set_xlabel(\"Race Combinations\")\nax.set_xticks(x)\nax.set_xticklabels(keys_, rotation=45)\nplt.grid()\nplt.show()"
      ]
    },
    {
      "cell_type": "markdown",
      "metadata": {},
      "source": [
        "3.2 Separate Implementation\n\n3.2.1 Counterfactual Sentiment Bias\n\n``SentimentBias()`` - For calculating the counterfactual sentiment bias metric (class)\n\n**Class Attributes:**\n  - ``classifier`` - (**{'vader','NLP API'}**) Specifies which sentiment classifier to use. Currently, only vader is offered. `NLP API` coming soon.\n  - ``sentiment`` - (**{'neg','pos'}**) Specifies whether the classifier should predict positive or negative sentiment.\n  - ``parity`` - (**{'strong','weak'}, default='strong'**) Indicates whether to calculate strong demographic parity using Wasserstein-1 distance on score distributions or weak demographic parity using binarized sentiment predictions. The latter assumes a threshold for binarization that can be customized by the user with the `thresh` parameter.\n  - ``thresh`` - (**float between 0 and 1, default=0.5**) Only applicable if `parity` is set to 'weak', this parameter specifies the threshold for binarizing predicted sentiment scores.\n  - ``how`` : (**{'mean','pairwise'}, default='mean'**) Specifies whether to return the mean cosine similarity over all counterfactual pairs or a list containing cosine distance for each pair.\n  - ``custom_classifier`` - (**class object**) A user-defined class for sentiment classification that contains a `predict` method. The `predict` method must accept a list of strings as an input and output a list of floats of equal length. If provided, this takes precedence over `classifier`.\n\n**Methods:**\n\n1. ``evaluate()`` - Calculates counterfactual sentiment bias for two sets of counterfactual outputs.\n\n  Method Parameters:\n\n    - ``texts1`` - (**List of strings**) A list of generated output from an LLM with mention of a protected attribute group\n    - ``texts2`` - (**List of strings**) A list of equal length to `texts1` containing counterfactually generated output from an LLM with mention of a different protected attribute group\n\n    Returns:\n    - Counterfactual Sentiment Bias score (**float**)\n\n"
      ]
    },
    {
      "cell_type": "code",
      "execution_count": null,
      "metadata": {
        "collapsed": false
      },
      "outputs": [],
      "source": [
        "sentimentbias = SentimentBias()\n\n# Sentiment Bias evaluation for race.\n\nfor group1, group2 in combinations([\"white\", \"black\", \"asian\", \"hispanic\"], 2):\n    similarity_values = sentimentbias.evaluate(\n        race_eval_df[group1 + \"_response\"], race_eval_df[group2 + \"_response\"]\n    )\n    print(\n        f\"{group1}-{group2} Strict counterfactual sentiment parity: \", similarity_values\n    )"
      ]
    },
    {
      "cell_type": "markdown",
      "metadata": {},
      "source": [
        "3.2.2 Cosine Similarity\n\n``CosineSimilarity()`` - For calculating the social group substitutions metric (class)\n\n**Class Attributes:**\n\n  - ``SentenceTransformer`` - (**sentence_transformers.SentenceTransformer.SentenceTransformer, default=None**) Specifies which huggingface sentence transformer to use when computing cosine distance. See https://huggingface.co/sentence-transformers?sort_models=likes#models for more information. The recommended sentence transformer is 'all-MiniLM-L6-v2'.\n  - ``how`` - (**{'`mean`','`pairwise`'} default='mean'**) Specifies whether to return the mean cosine distance value over all counterfactual pairs or a list containing consine distance for each pair.\n\n**Methods:**\n\n1. ``evaluate()`` - Calculates social group substitutions using cosine similarity. Sentence embeddings are calculated with `self.transformer`.\n\n  Method Parameters:\n\n    - ``texts1`` - (**List of strings**) A list of generated output from an LLM with mention of a protected attribute group\n    - ``texts2`` - (**List of strings**) A list of equal length to `texts1` containing counterfactually generated output from an LLM with mention of a different protected attribute group\n\n    Returns:\n    - Cosine distance score(s) (**float or list of floats**)\n\n"
      ]
    },
    {
      "cell_type": "code",
      "execution_count": null,
      "metadata": {
        "collapsed": false
      },
      "outputs": [],
      "source": [
        "cosine = CosineSimilarity(transformer=\"all-MiniLM-L6-v2\")\n\nfor group1, group2 in combinations([\"white\", \"black\", \"asian\", \"hispanic\"], 2):\n    similarity_values = cosine.evaluate(\n        race_eval_df[group1 + \"_response\"], race_eval_df[group2 + \"_response\"]\n    )\n    print(f\"{group1}-{group2} Counterfactual Cosine Similarity: \", similarity_values)"
      ]
    },
    {
      "cell_type": "markdown",
      "metadata": {},
      "source": [
        "3.2.3 RougeL Similarity\n\n``RougeLSimilarity()`` - For calculating the social group substitutions metric using RougeL similarity (class)\n\n**Class Attributes:**\n  - ``rouge_metric`` : (**{`'rougeL'`,`'rougeLsum'`}, default='rougeL'**) Specifies which ROUGE metric to use. If sentence-wise assessment is preferred, select 'rougeLsum'.\n  - ``how`` - (**{`'mean'`,`'pairwise'`} default='mean'**) Specifies whether to return the mean cosine distance value over all counterfactual pairs or a list containing consine distance for each pair.\n\n**Methods:**\n\n 1. ``evaluate()`` - Calculates social group substitutions using ROUGE-L.\n\n  Method Parameters:\n\n    - ``texts1`` - (**List of strings**) A list of generated output from an LLM with mention of a protected attribute group\n    - ``texts2`` - (**List of strings**) A list of equal length to `texts1` containing counterfactually generated output from an LLM with mention of a different protected attribute group\n\n    Returns:\n    - ROUGE-L or ROUGE-L sums score(s) (**float or list of floats**)\n\n"
      ]
    },
    {
      "cell_type": "code",
      "execution_count": null,
      "metadata": {
        "collapsed": false
      },
      "outputs": [],
      "source": [
        "rougel = RougelSimilarity()\n\nfor group1, group2 in combinations([\"white\", \"black\", \"asian\", \"hispanic\"], 2):\n    # Neutralize tokens for apples to apples comparison\n    group1_texts = cdg.neutralize_tokens(\n        race_eval_df[group1 + \"_response\"], attribute=\"race\"\n    )\n    group2_texts = cdg.neutralize_tokens(\n        race_eval_df[group2 + \"_response\"], attribute=\"race\"\n    )\n\n    # Compute and print metrics\n    similarity_values = rougel.evaluate(group1_texts, group2_texts)\n    print(f\"{group1}-{group2} Counterfactual RougeL Similarity: \", similarity_values)"
      ]
    },
    {
      "cell_type": "markdown",
      "metadata": {},
      "source": [
        "3.2.4 BLEU Similarity\n\n``Bleu Similarity()`` - For calculating the social group substitutions metric using BLEU similarity (class)\n\n**Class parameters:**\n  - `how` - (**{'mean','pairwise'} default='mean'**) Specifies whether to return the mean cosine distance value over all counterfactual pairs or a list containing consine distance for each pair.\n\n**Methods:**\n\n1. `evaluate()` - Calculates social group substitutions using BLEU metric.\n    Method Parameters:\n\n    - `texts1` - (**List of strings**) A list of generated output from an LLM with mention of a protected attribute group\n    - `texts2` - (**List of strings**) A list of equal length to `texts1` containing counterfactually generated output from an LLM with mention of a different protected attribute group\n\n    Returns:\n    - BLEU score(s) (**float or list of floats**)\n\n"
      ]
    },
    {
      "cell_type": "code",
      "execution_count": null,
      "metadata": {
        "collapsed": false
      },
      "outputs": [],
      "source": [
        "bleu = BleuSimilarity()\n\nfor group1, group2 in combinations([\"white\", \"black\", \"asian\", \"hispanic\"], 2):\n    # Neutralize tokens for apples to apples comparison\n    group1_texts = cdg.neutralize_tokens(\n        race_eval_df[group1 + \"_response\"], attribute=\"race\"\n    )\n    group2_texts = cdg.neutralize_tokens(\n        race_eval_df[group2 + \"_response\"], attribute=\"race\"\n    )\n\n    # Compute and print metrics\n    similarity_values = bleu.evaluate(group1_texts, group2_texts)\n    print(f\"{group1}-{group2} Counterfactual BLEU Similarity: \", similarity_values)"
      ]
    },
    {
      "cell_type": "markdown",
      "metadata": {},
      "source": [
        "4. Metric Definitions\n---------------------\n\nBelow are details of the LLM bias / fairness evaluation metrics calculated by the `CounterfactualMetrics` class. Metrics are defined in the context of a sample of $N$ LLM outputs, denoted $\\hat{Y}_1,...,\\hat{Y}_N$. **Below, a  \u2757 is used to indicate the metrics we deem to be of particular importance.**\n\nGiven two protected attribute groups $G', G''$, a counterfactual input pair is defined as a pair of prompts, $X_i', X_i''$ that are identical in every way except the former mentions protected attribute group $G'$ and the latter mentions $G''$. Counterfactual metrics are evaluated on a sample of counterfactual response pairs $(\\hat{Y}_1', \\hat{Y}_1''),...,(\\hat{Y}_N', \\hat{Y}_N'')$ generated by an LLM from a sample of counterfactual input pairs $(X_1',X_1''),...,(X_N',X_N'')$.\n\n*Counterfactual Similarity Metrics*\n\nCounterfactual similarity metrics assess similarity of counterfactually generated outputs. For the below three metrics, **values closer to 1 indicate greater fairness.**\n\nCounterfactual ROUGE-L (CROUGE-L) \u2757\n\nCROUGE-L is defined as the average ROUGE-L score over counterfactually generated output pairs:\n\n\\begin{align}CROUGE\\text{-}L =  \\frac{1}{N} \\sum_{i=1}^N \\frac{2r_i'r_i''}{r_i' + r_i''},\\end{align}\nwhere\n\n\\begin{align}r_i' = \\frac{LCS(\\hat{Y}_i', \\hat{Y}_i'')}{len (\\hat{Y}_i') }, \\quad r_i'' = \\frac{LCS(\\hat{Y}_i'', \\hat{Y}_i')}{len (\\hat{Y}_i'') }\\end{align}\n\nwhere $LCS(\\cdot,\\cdot)$ denotes the longest common subsequence of tokens between two LLM outputs, and $len (\\hat{Y})$ denotes the number of tokens in an LLM output. The CROUGE-L metric effectively uses ROUGE-L to assess similarity as the longest common subsequence (LCS) relative to generated text length. For more on interpreting ROUGE-L scores, refer to [Klu.ai documentation](https://klu.ai/glossary/rouge-score#:~:text=A%20good%20ROUGE%20score%20varies,low%20at%200.3%20to%200.4.)\n\nCounterfactual BLEU (CBLEU)  \u2757\n\nCBLEU is defined as the average BLEU score over counterfactually generated output pairs:\n\n\\begin{align}CBLEU =  \\frac{1}{N} \\sum_{i=1}^N \\min(BLEU(\\hat{Y}_i', \\hat{Y}_i''), BLEU(\\hat{Y}_i'', \\hat{Y}_i')).\\end{align}\nFor more on interpreting BLEU scores, refer to [Google's documentation](https://cloud.google.com/translate/automl/docs/evaluate).\n\nCounterfactual Cosine Similarity (CCS)  \u2757\n\nGiven a sentence transformer $\\mathbf{V} : \\mathcal{Y} \\xrightarrow{} \\mathbb{R}^d$, CCS is defined as the average cosine simirity score over counterfactually generated output pairs:\n\n\\begin{align}CCS = \\frac{1}{N} \\sum_{i=1}^N   \\frac{\\mathbf{V}(Y_i') \\cdot \\mathbf{V}(Y_i'') }{ \\lVert \\mathbf{V}(Y_i') \\rVert \\lVert \\mathbf{V}(Y_i'') \\rVert},\\end{align}\n\n*Counterfactual Sentiment Metrics*\n\nCounterfactual sentiment metrics leverage a pre-trained sentiment classifier $Sm: \\mathcal{Y} \\xrightarrow[]{} [0,1]$ to assess sentiment disparities of counterfactually generated outputs. For the below three metrics, **values closer to 0 indicate greater fairness.**\nCounterfactual Sentiment Bias (CSB)  \u2757\n\nCSP calculates Wasserstein-1 distance \\citep{wasserstein} between the output distributions of a sentiment classifier applied to counterfactually generated LLM outputs:\n\n\\begin{align}CSP = \\mathbb{E}_{\\tau \\sim \\mathcal{U}(0,1)} | P(Sm(\\hat{Y}') > \\tau) -  P(Sm(\\hat{Y}'') > \\tau)|,\\end{align}\nwhere $\\mathcal{U}(0,1)$ denotes the uniform distribution. Above, $\\mathbb{E}_{\\tau \\sim \\mathcal{U}(0,1)}$ is calculated empirically on a sample of counterfactual response pairs $(\\hat{Y}_1', \\hat{Y}_1''),...,(\\hat{Y}_N', \\hat{Y}_N'')$ generated by $\\mathcal{M}$, from a sample of counterfactual input pairs $(X_1',X_1''),...,(X_N',X_N'')$ drawn from $\\mathcal{P}_{X|\\mathcal{A}}$.\n\n"
      ]
    }
  ],
  "metadata": {
    "kernelspec": {
      "display_name": "Python 3",
      "language": "python",
      "name": "python3"
    },
    "language_info": {
      "codemirror_mode": {
        "name": "ipython",
        "version": 3
      },
      "file_extension": ".py",
      "mimetype": "text/x-python",
      "name": "python",
      "nbconvert_exporter": "python",
      "pygments_lexer": "ipython3",
      "version": "3.9.6"
    }
  },
  "nbformat": 4,
  "nbformat_minor": 0
}