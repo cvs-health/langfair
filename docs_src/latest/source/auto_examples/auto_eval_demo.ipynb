{
  "cells": [
    {
      "cell_type": "markdown",
      "metadata": {},
      "source": [
        "\n\n# Auto Eval Demo - Dialogue Summarization\n"
      ]
    },
    {
      "cell_type": "markdown",
      "metadata": {},
      "source": [
        "This notebook demonstrate the implementation of ``AutoEval`` class. This class provides an user-friendly way to compute toxicity, stereotype, and counterfactual assessment for an LLM model. The user needs to provide the input prompts and model responses (optional) and the ``AutoEval`` class implement following steps.\n\n1. Check Fairness Through Awareness (FTU)\n2. If FTU is not satisfied, generate dataset for Counterfactual assessment\n3. If not provided, generate model responses\n4. Compute toxicity metrics\n5. Compute stereotype metrics\n6. If FTU is not satisfied, compute counterfactual metrics\n\nImport necessary python libraries, suppress benign warnings, and specify the model API key.\n\n"
      ]
    },
    {
      "cell_type": "code",
      "execution_count": null,
      "metadata": {
        "collapsed": false
      },
      "outputs": [],
      "source": [
        "# Run if python-dotenv not installed\n# import sys\n# !{sys.executable} -m pip install python-dotenv\n\nimport os\nimport warnings\n\nimport pandas as pd\nfrom dotenv import find_dotenv, load_dotenv\nfrom langchain_core.rate_limiters import InMemoryRateLimiter\n\nfrom langfair.auto import AutoEval\n\nwarnings.filterwarnings(\"ignore\")\n\n\n# User to populate .env file with API credentials\nrepo_path = \"/\".join(os.getcwd().split(\"/\")[:-3])\nload_dotenv(find_dotenv())\n\nAPI_KEY = os.getenv(\"API_KEY\")\nAPI_BASE = os.getenv(\"API_BASE\")\nAPI_TYPE = os.getenv(\"API_TYPE\")\nAPI_VERSION = os.getenv(\"API_VERSION\")\nMODEL_VERSION = os.getenv(\"MODEL_VERSION\")\nDEPLOYMENT_NAME = os.getenv(\"DEPLOYMENT_NAME\")"
      ]
    },
    {
      "cell_type": "markdown",
      "metadata": {},
      "source": [
        "Here we read in a sample of conversation/dialogue between a person and a doctor from the\n[Neil Code Dialogsum-test](https://32a20588.isolation.zscaler.com/profile/a0ca9a0d-8973-4cbe-8155-e152179e8291/zia-session/?controls_id=0731d209-a26f-4f9a-9cb0-4fdc914a6ee6&region=was&tenant=2d433b801dec&user=f14ec5bc375d9c4122780b06db815ffcacff56adb229b59b6a459dd1718e0c91&original_url=https%3A%2F%2Fhuggingface.co%2Fdatasets%2Fneil-code%2Fdialogsum-test%2Fblob%2Fmain%2FREADME.md&key=sh-1&hmac=0abf7b681024a518be4227d7bee5186dfb34c133fbd0922d1795f0394a48b818).\nUpdate the following cell to read input prompts and (if applicable) model responses as python list.\n\n"
      ]
    },
    {
      "cell_type": "code",
      "execution_count": null,
      "metadata": {
        "collapsed": false
      },
      "outputs": [],
      "source": [
        "benchmark_path = os.path.join(repo_path, \"data/neil_code_dialogsum_train.txt\")\n\nwith open(benchmark_path, \"r\") as file:\n    dialogue = []\n    for line in file:\n        dialogue.append(line)\n\nprint(\"Number of Dialogues: \", len(dialogue))\ndialogue[:5]\n\nINSTRUCTION = (\n    \"You are to summarize the following conversation in no more than 3 sentences: \\n\"\n)\nprompts = [INSTRUCTION + str(text) for text in dialogue[:100]]"
      ]
    },
    {
      "cell_type": "markdown",
      "metadata": {},
      "source": [
        "``AutoEval()`` - For calculating all toxicity, stereotype, and counterfactual metrics supported by LangFair\n\n**Class Attributes:**\n\n* ``prompts`` - (**list of strings**) A list of input prompts for the model.\n\n* ``responses`` - (**list of strings, default=None**) A list of generated output from an LLM. If not available, responses are computed using the model.\n\n* ``langchain_llm`` (**langchain llm (Runnable), default=None**) A langchain llm object to get passed to LLMChain `llm` argument.\n\n* ``suppressed_exceptions``` (**tuple, default=None**) Specifies which exceptions to handle as 'Unable to get response' rather than raising the exception\n\n* ``metrics`` - (**dict or list of str, default is all metrics**) Specifies which metrics to evaluate.\n\n* ``toxicity_device`` - (**str or torch.device input or torch.device object, default=\"cpu\"**) Specifies the device that toxicity classifiers use for prediction. Set to \"cuda\" for classifiers to be able to leverage the GPU. Currently, 'detoxify_unbiased' and 'detoxify_original' will use this parameter.\n\n* ``neutralize_tokens`` - (**bool, default=True**) An indicator attribute to use masking for the computation of Blue and RougeL metrics. If True, counterfactual responses are masked using `CounterfactualGenerator.neutralize_tokens` method before computing the aforementioned metrics.\n\n* ``max_calls_per_min`` (**Deprecated as of 0.2.0**) Use LangChain's InMemoryRateLimiter instead.\n\n**Class Methods:**\n\n1. ``evaluate`` - Compute supported metrics.\n\n    **Method Attributes:**\n    - ``metrics`` - (**dict or list of str, default=None**)\n    Specifies which metrics to evaluate if a change is desired from those specified in self.metrics.\n\n2. ``print_results`` - Print evaluated score in a clean format.\n\n3. ``export_results`` - Save the final result in a text file.\n\n    **Method Attributes:**\n    - ``file_name`` - (**str, default=\"results.txt\"**)\n    Name of the .txt file.\n\nBelow we use LangFair's ``AutoEval`` class to conduct a comprehensive bias and fairness assessment for our text generation/summarization use case. To instantiate the `AutoEval` class, provide prompts and LangChain LLM object.\n\n**Important note: We provide three examples of LangChain LLMs below, but these can be replaced with a LangChain LLM of your choice.**\n\n"
      ]
    },
    {
      "cell_type": "code",
      "execution_count": null,
      "metadata": {
        "collapsed": false
      },
      "outputs": [],
      "source": [
        "# Use LangChain's InMemoryRateLimiter to avoid rate limit errors. Adjust parameters as necessary.\nrate_limiter = InMemoryRateLimiter(\n    requests_per_second=10,\n    check_every_n_seconds=10,\n    max_bucket_size=1000,\n)"
      ]
    },
    {
      "cell_type": "markdown",
      "metadata": {},
      "source": [
        "**Example 1: Gemini Pro with VertexAI**\n\n"
      ]
    },
    {
      "cell_type": "code",
      "execution_count": null,
      "metadata": {
        "collapsed": false
      },
      "outputs": [],
      "source": [
        "# # Run if langchain-google-vertexai not installed. Note: kernel restart may be required.\n# import sys\n# !{sys.executable} -m pip install langchain-google-vertexai\n\n# from langchain_google_vertexai import VertexAI\n# llm = VertexAI(model_name='gemini-pro', temperature=1, rate_limiter=rate_limiter)\n\n# # Define exceptions to suppress\n# suppressed_exceptions = (IndexError, ) # suppresses error when gemini refuses to answer"
      ]
    },
    {
      "cell_type": "markdown",
      "metadata": {},
      "source": [
        "**Example 2: Mistral AI**\n\n"
      ]
    },
    {
      "cell_type": "code",
      "execution_count": null,
      "metadata": {
        "collapsed": false
      },
      "outputs": [],
      "source": [
        "# # Run if langchain-mistralai not installed. Note: kernel restart may be required.\n# import sys\n# !{sys.executable} -m pip install langchain-mistralai\n\n# os.environ[\"MISTRAL_API_KEY\"] = os.getenv('M_KEY')\n# from langchain_mistralai import ChatMistralAI\n\n# llm = ChatMistralAI(\n#     model=\"mistral-large-latest\",\n#     temperature=1,\n#     rate_limiter=rate_limiter\n# )\n# suppressed_exceptions = None"
      ]
    },
    {
      "cell_type": "markdown",
      "metadata": {},
      "source": [
        "**Example 3: OpenAI on Azure**\n\n"
      ]
    },
    {
      "cell_type": "code",
      "execution_count": null,
      "metadata": {
        "collapsed": false
      },
      "outputs": [],
      "source": [
        "# # Run if langchain-openai not installed\n# import sys\n# !{sys.executable} -m pip install langchain-openai\n\nimport openai\nfrom langchain_openai import AzureChatOpenAI\n\nllm = AzureChatOpenAI(\n    deployment_name=DEPLOYMENT_NAME,\n    openai_api_key=API_KEY,\n    azure_endpoint=API_BASE,\n    openai_api_type=API_TYPE,\n    openai_api_version=API_VERSION,\n    temperature=1,  # User to set temperature\n    rate_limiter=rate_limiter,\n)\n\n# Define exceptions to suppress\nsuppressed_exceptions = (\n    openai.BadRequestError,\n    ValueError,\n)  # this suppresses content filtering errors"
      ]
    },
    {
      "cell_type": "markdown",
      "metadata": {},
      "source": [
        "Instantiate ``AutoEval`` class\n\n"
      ]
    },
    {
      "cell_type": "code",
      "execution_count": null,
      "metadata": {
        "collapsed": false
      },
      "outputs": [],
      "source": [
        "# import torch # uncomment if GPU is available\n# device = torch.device(\"cuda\") # uncomment if GPU is available\nae = AutoEval(\n    prompts=prompts,  # small sample used as an example; in practice, a bigger sample should be used\n    langchain_llm=llm,\n    suppressed_exceptions=suppressed_exceptions,\n    # toxicity_device=device # uncomment if GPU is available\n)"
      ]
    },
    {
      "cell_type": "markdown",
      "metadata": {},
      "source": [
        "Call ``evaluate`` method to compute scores corresponding to supported metrics.\n\nNote that this  may take some time due to evaluation being computationally intensive. Consider using GPU acceleration for  faster processing.\n\n"
      ]
    },
    {
      "cell_type": "code",
      "execution_count": null,
      "metadata": {
        "collapsed": false
      },
      "outputs": [],
      "source": [
        "warnings.filterwarnings(\"ignore\")\nresults = await ae.evaluate(return_data=True)"
      ]
    },
    {
      "cell_type": "markdown",
      "metadata": {},
      "source": [
        "The ``evaluate`` method return the score computed for different metrics and also store as an attribute of ``AutoEval`` class object (``AutoEval.results``). The ``results`` attribute can be printed in a clean format using ``print_results`` method.\n\n"
      ]
    },
    {
      "cell_type": "code",
      "execution_count": null,
      "metadata": {
        "collapsed": false
      },
      "outputs": [],
      "source": [
        "ae.print_results()"
      ]
    },
    {
      "cell_type": "markdown",
      "metadata": {},
      "source": [
        "The ``export_results`` method stores the above method results in a .txt file.\n\n"
      ]
    },
    {
      "cell_type": "code",
      "execution_count": null,
      "metadata": {
        "collapsed": false
      },
      "outputs": [],
      "source": [
        "ae.export_results(file_name=\"final_metrics.txt\")"
      ]
    },
    {
      "cell_type": "markdown",
      "metadata": {},
      "source": [
        "If specified, the ``AutoEval`` class also returns response-level toxicity, stereotype, and counterfactual scores. This is useful for investigating which responses were problematic.\n\n"
      ]
    },
    {
      "cell_type": "code",
      "execution_count": null,
      "metadata": {
        "collapsed": false
      },
      "outputs": [],
      "source": [
        "toxicity_data = pd.DataFrame(results[\"data\"][\"Toxicity\"])\ntoxicity_data.sort_values(by='score', ascending=False).head()\n\n\nstereotype_data = pd.DataFrame(results[\"data\"][\"Stereotype\"])\nstereotype_data.sort_values(by='stereotype_score_gender', ascending=False).head()\n\ncounterfactual_data = pd.DataFrame(results[\"data\"][\"Counterfactual\"][\"male-female\"])\ncounterfactual_data.sort_values(by='Sentiment Bias', ascending=False).head()"
      ]
    },
    {
      "cell_type": "markdown",
      "metadata": {},
      "source": [
        "## **Metric Definitions**\n\nBelow are details of the LLM bias / fairness evaluation metrics calculated by the ``AutoEval`` class. Metrics are defined in the context of a sample of $N$ LLM outputs, denoted $\\hat{Y}_1,...,\\hat{Y}_N$.\n**Below, a  \u2757 is used to indicate the metrics we deem to be of particular importance.**\n\n**Toxicity Metrics**\n\nToxicity metrics leverage a pre-trained toxicity classifier $T: \\mathcal{Y} \\xrightarrow[]{} [0,1]$ that maps texts to toxicity scores. Below, let $\\tau$ denote the threshold for mapping toxicity scores to $\\{0,1\\}$. **For all toxicity metrics, values closer to 0 indicate greater fairness.**\n\nToxic Fraction (TF) \u2757\n\nToxic fraction measures the proportion of generations that are classified as toxic.\n\n.. math ::\n      TF = \\frac{1}{N} \\sum_{i=1}^N I(T(\\hat{Y}_i) > \\tau)\n\nResponses classified as toxic can be investigated with ``AutoEval.toxicity_data()``.\n\nExpected Maximum Toxicity (EMT)\n\nEMT estimates the maximum predicted toxicity probability among the top 25 generations:\n\n.. math ::\n      EMT = \\frac{1}{N} \\sum_{i=1}^N  \\max_{ 1 \\leq j \\leq 25} T(\\hat{Y}_{ij})\n\nToxicity Probability (TP)\n\nTP is calculated as the empirical probability of having at least one toxic prediction among the top 25 generations:\n\n.. math ::\n      TP = \\frac{1}{N} \\sum_{i=1}^N I( \\max_{ 1 \\leq j \\leq 25} T (\\hat{Y}_{ij}) \\geq \\tau)\n\n**Stereotype Metrics**\n\nStereotype metrics either leverage a pre-trained stereotype classifier $St: \\mathcal{Y} \\xrightarrow[]{} [0,1]$ that maps texts to stereotype scores **or** calculate stereotype likelihood based on word co-occurrences. Below, let $\\tau$ denote the threshold for mapping stereotype scores to $\\{0,1\\}$. **For all stereotype metrics, values closer to 0 indicate greater fairness.**\n\nStereotype Fraction (SF)  \u2757\n\nStereotype fraction measures the proportion of generations that are classified as stereotypes.\n\n.. math ::\n     SF = \\frac{1}{N} \\sum_{i=1}^N I(St(\\hat{Y}_i) > \\tau)\n\nExpected Maximum Stereotype (EMS)\n\nEMS estimates the maximum predicted toxicity probability among the top 25 generations:\n\n.. math ::\n      EMS = \\frac{1}{N} \\sum_{i=1}^N  \\max_{ 1 \\leq j \\leq 25} T(\\hat{Y}_{ij})\n\nResponses classified as stereotypes can be investigated with ``AutoEval.stereotype_data()``.\n\nStereotype Probability (SP)\n\nSP is calculated as the empirical probability of having at least one stereotype among the top 25 generations:\n\n.. math ::\n      SP = \\frac{1}{N} \\sum_{i=1}^N I( \\max_{ 1 \\leq j \\leq 25} St (\\hat{Y}_{ij}) \\geq \\tau)\n\nCooccurrence Bias Score (COBS)\n\nGiven two protected attribute groups $G', G''$ with associated sets of protected attribute words $A', A''$, a set of stereotypical words $W$, COBS computes the relative likelihood that an LLM $\\mathcal{M}$ generates output having co-occurrence of $w \\in W$ with $A'$ versus $A''$:\n\n.. math ::\n      COBS = \\frac{1}{|W|} \\sum_{w \\in W} \\log \\frac{P(w|A')}{P(w|A'')}\n\nStereotypical Associations (SA)\n\nConsider a set of protected attribute groups $\\mathcal{G}$, an associated set of protected attribute lexicons $\\mathcal{A}$, and an associated set of stereotypical words $W$. Additionally, let $C(x,\\hat{Y})$ denote the number of times that the word $x$ appears in the output $\\hat{Y}, I(\\cdot)$ denote the indicator function, $P^{\\text{ref}}$ denote a reference distribution, and $TVD$ denote total variation difference. SA measures the relative co-occurrence of a set of stereotypically associated words across protected attribute groups:\n\n.. math ::\n      SA = \\frac{1}{|W|}\\sum_{w \\in W} TVD(P^{(w)},P^{\\text{ref}}).\n\nwhere\n\n.. math ::\n      P^{\\text{ref}} = \\{ \\frac{\\sum_{A \\in \\mathcal{A}} \\gamma(w | A)}{\\sum_{A \\in \\mathcal{A}} \\sum_{w \\in W} \\gamma(w | A)} : w \\in W \\}, \\quad \\gamma{(w | A)} = \\sum_{a \\in A} \\sum_{i=1}^N C(a,\\hat{Y}_i)I(C(w,\\hat{Y}_i)>0).\n\n\n|\n**Counterfactual Fairness Metrics**\n\nGiven two protected attribute groups $G', G''$, a counterfactual input pair is defined as a pair of prompts, $X_i', X_i''$ that are identical in every way except the former mentions protected attribute group $G'$ and the latter mentions $G''$. Counterfactual metrics are evaluated on a sample of counterfactual response pairs $(\\hat{Y}_1', \\hat{Y}_1''),...,(\\hat{Y}_N', \\hat{Y}_N'')$ generated by an LLM from a sample of counterfactual input pairs $(X_1',X_1''),...,(X_N',X_N'')$.\n\n*Counterfactual Similarity Metrics*\n\nCounterfactual similarity metrics assess similarity of counterfactually generated outputs. For the below three metrics, **values closer to 1 indicate greater fairness.**\n\nCounterfactual ROUGE-L (CROUGE-L)  \u2757\n\nCROUGE-L is defined as the average ROUGE-L score over counterfactually generated output pairs:\n\n.. math ::\n      CROUGE-L =  \\frac{1}{N} \\sum_{i=1}^N \\frac{2r_i'r_i''}{r_i' + r_i''},\nwhere\n\n.. math ::\n      r_i' = \\frac{LCS(\\hat{Y}_i', \\hat{Y}_i'')}{len (\\hat{Y}_i') }, \\quad r_i'' = \\frac{LCS(\\hat{Y}_i'', \\hat{Y}_i') }{len (\\hat{Y}_i'') }\n\nwhere $LCS(\\cdot,\\cdot)$ denotes the longest common subsequence of tokens between two LLM outputs, and $len (\\hat{Y})$ denotes the number of tokens in an LLM output. The CROUGE-L metric effectively uses ROUGE-L to assess similarity as the longest common subsequence (LCS) relative to generated text length. For more on interpreting ROUGE-L scores, refer to [Klu.ai documentation](https://klu.ai/glossary/rouge-score#:~:text=A%20good%20ROUGE%20score%20varies,low%20at%200.3%20to%200.4.).\n\nCounterfactual BLEU (CBLEU) \u2757\n\nCBELEU is defined as the average BLEU score over counterfactually generated output pairs:\n\n.. math ::\n      CBLEU =  \\frac{1}{N} \\sum_{i=1}^N \\min(BLEU(\\hat{Y}_i', \\hat{Y}_i''), BLEU(\\hat{Y}_i'', \\hat{Y}_i')).\n\nFor more on interpreting BLEU scores, refer to [Google's documentation](https://cloud.google.com/translate/automl/docs/evaluate).\n\nCounterfactual Cosine Similarity (CCS)  \u2757\n\nGiven a sentence transformer $\\mathbf{V} : \\mathcal{Y} \\xrightarrow{} \\mathbb{R}^d$, CCS is defined as the average cosine simirity score over counterfactually generated output pairs:\n\n.. math ::\n      CCS = \\frac{1}{N} \\sum_{i=1}^N   \\frac{\\mathbf{V}(Y_i') \\cdot \\mathbf{V}(Y_i'') }{ \\lVert \\mathbf{V}(Y_i') \\rVert \\lVert \\mathbf{V}(Y_i'') \\rVert},\n\n*Counterfactual Sentiment Metrics*\n\nCounterfactual sentiment metrics leverage a pre-trained sentiment classifier $Sm: \\mathcal{Y} \\xrightarrow[]{} [0,1]$ to assess sentiment disparities of counterfactually generated outputs. For the below three metrics, **values closer to 0 indicate greater fairness.**\n\nCounterfactual Sentiment Bias (CSB)  \u2757\n\nCSP calculates Wasserstein-1 distance \\citep{wasserstein} between the output distributions of a sentiment classifier applied to counterfactually generated LLM outputs:\n\n.. math ::\n      CSB = \\mathbb{E}_{\\tau \\sim \\mathcal{U}(0,1)} | Sm(\\hat{Y}') - Sm(\\hat{Y}'')|,\n\nwhere $\\mathcal{U}(0,1)$ denotes the uniform distribution. Above, $\\mathbb{E}_{\\tau \\sim \\mathcal{U}(0,1)}$ is calculated empirically on a sample of counterfactual response pairs $(\\hat{Y}_1', \\hat{Y}_1''),...,(\\hat{Y}_N', \\hat{Y}_N'')$ generated by $\\mathcal{M}$, from a sample of counterfactual input pairs $(X_1',X_1''),...,(X_N',X_N'')$ drawn from $\\mathcal{P}_{X|\\mathcal{A}}$.\n\n"
      ]
    }
  ],
  "metadata": {
    "kernelspec": {
      "display_name": "Python 3",
      "language": "python",
      "name": "python3"
    },
    "language_info": {
      "codemirror_mode": {
        "name": "ipython",
        "version": 3
      },
      "file_extension": ".py",
      "mimetype": "text/x-python",
      "name": "python",
      "nbconvert_exporter": "python",
      "pygments_lexer": "ipython3",
      "version": "3.9.6"
    }
  },
  "nbformat": 4,
  "nbformat_minor": 0
}